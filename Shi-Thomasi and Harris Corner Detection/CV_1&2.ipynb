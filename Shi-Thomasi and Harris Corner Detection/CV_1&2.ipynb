{
 "cells": [
  {
   "cell_type": "code",
   "execution_count": 19,
   "metadata": {},
   "outputs": [],
   "source": [
    "import matplotlib.pyplot as plt\n",
    "import matplotlib.patches as patch \n",
    "import cv2\n",
    "import numpy as np\n",
    "import matplotlib.image as mpimg\n",
    "import math\n",
    "import sys\n",
    "import os\n",
    "from scipy import signal as sig\n",
    "from numpy import linalg as LA"
   ]
  },
  {
   "cell_type": "code",
   "execution_count": 2,
   "metadata": {},
   "outputs": [
    {
     "data": {
      "text/plain": [
       "<matplotlib.image.AxesImage at 0x7f91605d38d0>"
      ]
     },
     "execution_count": 2,
     "metadata": {},
     "output_type": "execute_result"
    },
    {
     "data": {
      "image/png": "[encoded data removed]",
      "text/plain": [
       "<Figure size 432x288 with 1 Axes>"
      ]
     },
     "metadata": {
      "needs_background": "light"
     },
     "output_type": "display_data"
    }
   ],
   "source": [
    "temp_image = cv2.imread('box.jpg')\n",
    "image = cv2.cvtColor(temp_image,cv2.COLOR_BGR2GRAY)\n",
    "colour_image = cv2.cvtColor(image,cv2.COLOR_BGR2RGB)\n",
    "plt.imshow(image, cmap = 'gray')"
   ]
  },
  {
   "cell_type": "code",
   "execution_count": 3,
   "metadata": {},
   "outputs": [],
   "source": [
    "kernel_x = [[-1, -2, -1],\n",
    "           [0, 0, 0],\n",
    "           [1, 2, 1] ]\n",
    "kernel_y = [[-1, 0, 1],\n",
    "           [-2, 0, 2],\n",
    "           [-1, 0, 1]]"
   ]
  },
  {
   "cell_type": "code",
   "execution_count": 4,
   "metadata": {},
   "outputs": [],
   "source": [
    "def find_gradient(imggray):\n",
    "    return sig.convolve2d(imggray, kernel_x, mode='same') , sig.convolve2d(imggray, kernel_y, mode='same')"
   ]
  },
  {
   "cell_type": "code",
   "execution_count": 5,
   "metadata": {},
   "outputs": [],
   "source": [
    "gx,gy = find_gradient(image)"
   ]
  },
  {
   "cell_type": "code",
   "execution_count": 6,
   "metadata": {},
   "outputs": [
    {
     "name": "stdout",
     "output_type": "stream",
     "text": [
      "[[ -765     0     0 ...     0     0   765]\n",
      " [-1020     0     0 ...     0     0  1020]\n",
      " [-1020     0     0 ...     0     0  1020]\n",
      " ...\n",
      " [-1020     0     0 ...     0     0  1020]\n",
      " [-1020     0     0 ...     0     0  1020]\n",
      " [ -765     0     0 ...     0     0   765]]\n"
     ]
    }
   ],
   "source": [
    "print(gy)"
   ]
  },
  {
   "cell_type": "code",
   "execution_count": 7,
   "metadata": {},
   "outputs": [],
   "source": [
    "Ixx = gx**2\n",
    "Iyy = gy**2\n",
    "Ixy = gx+gy"
   ]
  },
  {
   "cell_type": "code",
   "execution_count": 8,
   "metadata": {},
   "outputs": [
    {
     "name": "stdout",
     "output_type": "stream",
     "text": [
      "[[ 585225 1040400 1040400 ... 1040400 1040400  585225]\n",
      " [      0       0       0 ...       0       0       0]\n",
      " [      0       0       0 ...       0       0       0]\n",
      " ...\n",
      " [      0       0       0 ...       0       0       0]\n",
      " [      0       0       0 ...       0       0       0]\n",
      " [ 585225 1040400 1040400 ... 1040400 1040400  585225]]\n"
     ]
    }
   ],
   "source": [
    "print(Ixx)"
   ]
  },
  {
   "cell_type": "code",
   "execution_count": 9,
   "metadata": {},
   "outputs": [],
   "source": [
    "window_size = 4\n",
    "offset = int(window_size/2)"
   ]
  },
  {
   "cell_type": "code",
   "execution_count": 10,
   "metadata": {},
   "outputs": [],
   "source": [
    "img_corners = np.copy(colour_image)\n",
    "img_edges = np.copy(colour_image)"
   ]
  },
  {
   "cell_type": "code",
   "execution_count": 11,
   "metadata": {},
   "outputs": [],
   "source": [
    "for y in range(offset,image.shape[0]-offset):\n",
    "    for x in range(offset, image.shape[1]-offset):\n",
    "        patch_Ixx = Ixx[y-offset:y+offset+1,x-offset:x+offset+1]\n",
    "        patch_Iyy = Iyy[y-offset:y+offset+1,x-offset:x+offset+1]\n",
    "        patch_Ixy = Ixy[y-offset:y+offset+1,x-offset:x+offset+1]\n",
    "        \n",
    "        Sum_xx = patch_Ixx.sum()\n",
    "        Sum_xy = patch_Ixy.sum()\n",
    "        Sum_yy = patch_Iyy.sum()\n",
    "        det = (Sum_xx * Sum_yy) - (Sum_xy**2)\n",
    "        trace = Sum_xx + Sum_yy\n",
    "        \n",
    "        R = det - 0.06*(trace**2)\n",
    "        \n",
    "        if R>0:\n",
    "            #print(R)\n",
    "            img_corners.itemset((y,x,0),0)\n",
    "            img_corners.itemset((y,x,1),0)\n",
    "            img_corners.itemset((y,x,2),255)\n",
    "        else:\n",
    "            img_edges.itemset((y,x,0),0)\n",
    "            img_edges.itemset((y,x,1),0)\n",
    "            img_edges.itemset((y,x,0),255)"
   ]
  },
  {
   "cell_type": "code",
   "execution_count": 12,
   "metadata": {},
   "outputs": [
    {
     "data": {
      "text/plain": [
       "<matplotlib.image.AxesImage at 0x7f916051e850>"
      ]
     },
     "execution_count": 12,
     "metadata": {},
     "output_type": "execute_result"
    },
    {
     "data": {
      "image/png": "[encoded data removed]",
      "text/plain": [
       "<Figure size 432x288 with 1 Axes>"
      ]
     },
     "metadata": {
      "needs_background": "light"
     },
     "output_type": "display_data"
    }
   ],
   "source": [
    "plt.imshow(img_edges)"
   ]
  },
  {
   "cell_type": "code",
   "execution_count": 13,
   "metadata": {},
   "outputs": [
    {
     "data": {
      "text/plain": [
       "<matplotlib.image.AxesImage at 0x7f916048c990>"
      ]
     },
     "execution_count": 13,
     "metadata": {},
     "output_type": "execute_result"
    },
    {
     "data": {
      "image/png": "[encoded data removed]",
      "text/plain": [
       "<Figure size 432x288 with 1 Axes>"
      ]
     },
     "metadata": {
      "needs_background": "light"
     },
     "output_type": "display_data"
    }
   ],
   "source": [
    "plt.imshow(img_corners)"
   ]
  },
  {
   "cell_type": "code",
   "execution_count": 20,
   "metadata": {},
   "outputs": [],
   "source": [
    "gy,gx = np.gradient(image)"
   ]
  },
  {
   "cell_type": "code",
   "execution_count": 21,
   "metadata": {},
   "outputs": [],
   "source": [
    "Ixx = gx**2\n",
    "Iyy = gy**2\n",
    "Ixy = gx+gy"
   ]
  },
  {
   "cell_type": "code",
   "execution_count": 22,
   "metadata": {},
   "outputs": [],
   "source": [
    "shi_thomasi = np.zeros((image.shape))"
   ]
  },
  {
   "cell_type": "code",
   "execution_count": 23,
   "metadata": {},
   "outputs": [],
   "source": [
    "for y in range(offset,image.shape[0]-offset):\n",
    "    for x in range(offset, image.shape[1]-offset):\n",
    "        patch_Ixx = Ixx[y-offset:y+offset+1,x-offset:x+offset+1]\n",
    "        patch_Iyy = Iyy[y-offset:y+offset+1,x-offset:x+offset+1]\n",
    "        patch_Ixy = Ixy[y-offset:y+offset+1,x-offset:x+offset+1]\n",
    "        \n",
    "        Sum_xx = patch_Ixx.sum()\n",
    "        Sum_xy = patch_Ixy.sum()\n",
    "        Sum_yy = patch_Iyy.sum()\n",
    "        M = [[Sum_xx,Sum_xy],[Sum_xy,Sum_yy]]\n",
    "        M = np.asarray(M)\n",
    "        w, v = LA.eig(M)\n",
    "        #print(w)\n",
    "        R2 = min(w)\n",
    "        shi_thomasi[y][x] = R2\n",
    "        if R2>0:\n",
    "            #print(R2)\n",
    "            img_corners.itemset((y,x,0),0)\n",
    "            img_corners.itemset((y,x,1),255)\n",
    "            img_corners.itemset((y,x,2),0)\n",
    "        else:\n",
    "            #print(R2)\n",
    "            img_edges.itemset((y,x,0),0)\n",
    "            img_edges.itemset((y,x,1),0)\n",
    "            img_edges.itemset((y,x,0),255)"
   ]
  },
  {
   "cell_type": "code",
   "execution_count": 24,
   "metadata": {},
   "outputs": [
    {
     "data": {
      "text/plain": [
       "<matplotlib.image.AxesImage at 0x7f9160383c90>"
      ]
     },
     "execution_count": 24,
     "metadata": {},
     "output_type": "execute_result"
    },
    {
     "data": {
      "image/png": "[encoded data removed]",
      "text/plain": [
       "<Figure size 432x288 with 1 Axes>"
      ]
     },
     "metadata": {
      "needs_background": "light"
     },
     "output_type": "display_data"
    }
   ],
   "source": [
    "plt.imshow(img_edges)"
   ]
  },
  {
   "cell_type": "code",
   "execution_count": 25,
   "metadata": {},
   "outputs": [
    {
     "data": {
      "text/plain": [
       "[<matplotlib.lines.Line2D at 0x7f91528d8e10>]"
      ]
     },
     "execution_count": 25,
     "metadata": {},
     "output_type": "execute_result"
    },
    {
     "data": {
      "image/png": "[encoded data removed]",
      "text/plain": [
       "<Figure size 432x288 with 1 Axes>"
      ]
     },
     "metadata": {
      "needs_background": "light"
     },
     "output_type": "display_data"
    }
   ],
   "source": [
    "from skimage.feature import corner_peaks\n",
    "corners = corner_peaks(shi_thomasi)\n",
    "fig, ax = plt.subplots()\n",
    "ax.imshow(image, interpolation='nearest', cmap=plt.cm.gray)\n",
    "ax.plot(corners[:, 1], corners[:, 0], '.r', markersize=3)"
   ]
  },
  {
   "cell_type": "code",
   "execution_count": null,
   "metadata": {},
   "outputs": [],
   "source": []
  }
 ],
 "metadata": {
  "kernelspec": {
   "display_name": "Python 3",
   "language": "python",
   "name": "python3"
  },
  "language_info": {
   "codemirror_mode": {
    "name": "ipython",
    "version": 3
   },
   "file_extension": ".py",
   "mimetype": "text/x-python",
   "name": "python",
   "nbconvert_exporter": "python",
   "pygments_lexer": "ipython3",
   "version": "3.7.4"
  }
 },
 "nbformat": 4,
 "nbformat_minor": 2
}
