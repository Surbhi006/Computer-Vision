{
 "cells": [
  {
   "cell_type": "code",
   "execution_count": 504,
   "metadata": {},
   "outputs": [],
   "source": [
    "import matplotlib.pyplot as plt\n",
    "import matplotlib.patches as patch \n",
    "import cv2\n",
    "import numpy as np\n",
    "import matplotlib.image as mpimg\n",
    "from sklearn import svm\n",
    "import math\n",
    "import sys\n",
    "import os\n",
    "from sklearn.metrics import classification_report,accuracy_score"
   ]
  },
  {
   "cell_type": "code",
   "execution_count": 537,
   "metadata": {},
   "outputs": [
    {
     "data": {
      "text/plain": [
       "{'divide': 'warn', 'over': 'warn', 'under': 'ignore', 'invalid': 'warn'}"
      ]
     },
     "execution_count": 537,
     "metadata": {},
     "output_type": "execute_result"
    }
   ],
   "source": [
    "np.seterr(divide='ignore', invalid='ignore')"
   ]
  },
  {
   "cell_type": "code",
   "execution_count": 505,
   "metadata": {},
   "outputs": [],
   "source": [
    "mv = np.zeros((3,3))\n",
    "mh = np.zeros((3,3))"
   ]
  },
  {
   "cell_type": "code",
   "execution_count": 506,
   "metadata": {},
   "outputs": [
    {
     "name": "stdout",
     "output_type": "stream",
     "text": [
      "[[ 1.  0. -1.]\n",
      " [ 1.  0. -1.]\n",
      " [ 1.  0. -1.]]\n"
     ]
    }
   ],
   "source": [
    "mv[0][0]=1\n",
    "mv[0][1]=0\n",
    "mv[0][2]=-1\n",
    "mv[1][0]=1\n",
    "mv[1][1]=0\n",
    "mv[1][2]=-1\n",
    "mv[2][0]=1\n",
    "mv[2][1]=0\n",
    "mv[2][2]=-1\n",
    "print(mv)"
   ]
  },
  {
   "cell_type": "code",
   "execution_count": 507,
   "metadata": {},
   "outputs": [
    {
     "name": "stdout",
     "output_type": "stream",
     "text": [
      "[[ 1.  1.  1.]\n",
      " [ 0.  0.  0.]\n",
      " [-1. -1. -1.]]\n"
     ]
    }
   ],
   "source": [
    "mh[0][0]=1\n",
    "mh[0][1]=1\n",
    "mh[0][2]=1\n",
    "mh[1][0]=0\n",
    "mh[1][1]=0\n",
    "mh[1][2]=0\n",
    "mh[2][0]=-1\n",
    "mh[2][1]=-1\n",
    "mh[2][2]=-1\n",
    "print(mh)"
   ]
  },
  {
   "cell_type": "code",
   "execution_count": 508,
   "metadata": {},
   "outputs": [],
   "source": [
    "def gradient_mag_angle(mv,mh,image):\n",
    "    for i in range(1,255):\n",
    "        for j in range(1,255):\n",
    "            p = image[i-1:i+2,j-1:j+2]\n",
    "            gv = np.sum(np.dot(p,mv))\n",
    "            gh = np.sum(np.dot(p,mh))\n",
    "            m= np.sqrt((gv**2+gh**2))\n",
    "            #print(mag)\n",
    "            #print(np.dot(neighbours,mv))\n",
    "            a = math.degrees(math.atan(gv/gh))\n",
    "            a = np.nan_to_num(a)\n",
    "            if gh<0 and gv>=0:\n",
    "                a = a+180\n",
    "            if gh<0 and gv<0:\n",
    "                a = a-180\n",
    "            if gh == 0 and gv ==0:\n",
    "                a=0\n",
    "            if gh==0 and gv>0:\n",
    "                a=90\n",
    "            if gh==0 and gv<0:\n",
    "                a=-90\n",
    "            #print(a)\n",
    "            mag[i-1,j-1] = m\n",
    "            angle[i-1,j-1] = a\n",
    "    return mag,angle"
   ]
  },
  {
   "cell_type": "code",
   "execution_count": 509,
   "metadata": {},
   "outputs": [],
   "source": [
    "key_angle = [float(i) for i in range(-180, 180+1, 30)]\n",
    "#key_angle = float(key_angle)\n",
    "bins = len(key_angle)\n",
    "hog = np.zeros((256,bins))"
   ]
  },
  {
   "cell_type": "code",
   "execution_count": 513,
   "metadata": {},
   "outputs": [],
   "source": [
    "def HOG(mag,angle,patch,image,key_angle,neighbours):\n",
    "    patch=0\n",
    "    neighbours = 16\n",
    "    for i in range (0,256-1,16):\n",
    "        for j in range (0,256-1,16):\n",
    "            #print(\"patch: \",patch)\n",
    "            row= i+neighbours\n",
    "            col = j+neighbours\n",
    "            #print(i,j)\n",
    "            #print(row,col)\n",
    "            angle_v = angle[i:row,j:col]\n",
    "            mag_v = mag[i:row,j:col]\n",
    "            #print(angle_v.shape,mag_v.shape)\n",
    "            angle_v = angle_v.flatten()\n",
    "            mag_v = angle_v.flatten()\n",
    "            #print(mag_v.shape,angle_v.shape)\n",
    "\n",
    "            for k in range(256):\n",
    "                for l in range(len(key_angle)):\n",
    "                    #print(key_angle[l+1])\n",
    "                    #print(k,l)\n",
    "\n",
    "                    if((angle_v[k]>key_angle[l]) and (angle_v[k]<key_angle[l+1])):\n",
    "                        hog[patch,l] = hog[patch,l]+mag_v[k]*abs(key_angle[l+1]-angle_v[k])/(abs(key_angle[l+1]-angle_v[k])+abs(key_angle[l]-angle_v[k]))\n",
    "                        hog[patch,l+1] = hog[patch,l+1]+mag_v[k]*abs(key_angle[l]-angle_v[k])/(abs(key_angle[l+1]-angle_v[k])+abs(key_angle[l]-angle_v[k]))\n",
    "\n",
    "                    else:\n",
    "\n",
    "                        hog[patch,l] = hog[patch,l] + mag_v[k]\n",
    "\n",
    "            patch = patch+1 \n",
    "        return hog"
   ]
  },
  {
   "cell_type": "code",
   "execution_count": 514,
   "metadata": {},
   "outputs": [],
   "source": [
    "def final_HOG(hog):\n",
    "    for i in range(hog.shape[1]//2):\n",
    "        hog[:,i]=hog[:,i]+hog[:,hog.shape[1]-1-i]\n",
    "        hog = np.delete(hog,[hog.shape[1]-1-i],axis=1)\n",
    "        #print(hog.shape)\n",
    "    return hog"
   ]
  },
  {
   "cell_type": "code",
   "execution_count": 536,
   "metadata": {},
   "outputs": [
    {
     "name": "stdout",
     "output_type": "stream",
     "text": [
      "car-1081742_640.jpg\n"
     ]
    },
    {
     "name": "stderr",
     "output_type": "stream",
     "text": [
      "/home/surbhi/anaconda3/lib/python3.7/site-packages/ipykernel_launcher.py:10: RuntimeWarning: invalid value encountered in double_scalars\n",
      "  # Remove the CWD from sys.path while we load stuff.\n",
      "/home/surbhi/anaconda3/lib/python3.7/site-packages/ipykernel_launcher.py:17: RuntimeWarning: invalid value encountered in true_divide\n"
     ]
    },
    {
     "name": "stdout",
     "output_type": "stream",
     "text": [
      "volga-4856133_640.png\n",
      "fiat-4298163_640.jpg\n",
      "sports-car-146873_640.png\n",
      "plymouth-796441_640.jpg\n",
      "isolated-3065717_640.png\n",
      "aston-2118857_640.jpg\n",
      "car-49278_640.jpg\n",
      "auto-2179220_640.jpg\n",
      "classic-car-152118_640.png\n",
      "car-2158284_640.png\n",
      "ford-mustang-146580_640.png\n",
      "car-604019_640.jpg\n",
      "pontiac-4850448_640.png\n",
      "car-1957037_640.jpg\n",
      "chevrolet-3253172_640.png\n",
      "audi-1890494_640.jpg\n",
      "ifa-1661767_640.jpg\n",
      "mercedes-1327610_640.jpg\n",
      "bmw-918408_640.jpg\n"
     ]
    }
   ],
   "source": [
    "dir_images = 'cars_train/'\n",
    "imgs = os.listdir(dir_images)\n",
    "feature_dic ={}\n",
    "neighbours = 16\n",
    "for imgnm in imgs:\n",
    "    print(imgnm)\n",
    "    image = plt.imread(os.path.join(dir_images,imgnm))\n",
    "    #print(image.shape)\n",
    "    image = cv2.cvtColor(image,cv2.COLOR_BGR2GRAY)\n",
    "    image = cv2.resize(image,(256,256))\n",
    "    mag = np.zeros(image.shape,dtype=np.float64)\n",
    "    angle = np.zeros(image.shape,dtype=float)\n",
    "    mag,angle= gradient_mag_angle(mv,mh,image)\n",
    "    hog = HOG(mag,angle,patch,image,key_angle,neighbours)\n",
    "    #print(hog.shape)\n",
    "    row_sums = hog.sum(axis=1)\n",
    "    new_hog = hog / row_sums[:, np.newaxis]\n",
    "    new_hog = np.isnan(new_hog)\n",
    "    feature = final_HOG(new_hog)\n",
    "    feature = feature.flatten()\n",
    "    #feature = feature.reshape((-1,1))\n",
    "    feature = feature.transpose()\n",
    "    #print(feature.shape)\n",
    "    feature_dic[imgnm] = feature"
   ]
  },
  {
   "cell_type": "code",
   "execution_count": 538,
   "metadata": {},
   "outputs": [
    {
     "name": "stdout",
     "output_type": "stream",
     "text": [
      "dog-cutout-1-daxi-1408237.jpg\n",
      "pug-690566_640.jpg\n",
      "dino-1366698.jpg\n",
      "3.jpg\n",
      "puppy-1903313_640.jpg\n",
      "10.png\n",
      "6.jpg\n",
      "puppy.jpg\n",
      "dog.jpg\n",
      "dachshund-1519374_640.jpg\n",
      "11.jpg\n",
      "cute-puppy-white-background-14660314.jpg\n",
      "2.jpg\n",
      "weimaraner-1381186_640.jpg\n",
      "4.jpg\n",
      "1jpg\n",
      "8.jpeg\n",
      "9.jpg\n",
      "dog-3277416_640.jpg\n",
      "7.jpg\n"
     ]
    }
   ],
   "source": [
    "dir_images_dog = 'dogs/'\n",
    "imgs = os.listdir(dir_images_dog)\n",
    "feature_dog_dic ={}\n",
    "neighbours = 16\n",
    "for imgnm in imgs:\n",
    "    print(imgnm)\n",
    "    image = plt.imread(os.path.join(dir_images_dog,imgnm))\n",
    "    #print(image.shape)\n",
    "    image = cv2.cvtColor(image,cv2.COLOR_BGR2GRAY)\n",
    "    image = cv2.resize(image,(256,256))\n",
    "    mag = np.zeros(image.shape,dtype=np.float64)\n",
    "    angle = np.zeros(image.shape,dtype=float)\n",
    "    mag,angle= gradient_mag_angle(mv,mh,image)\n",
    "    hog = HOG(mag,angle,patch,image,key_angle,neighbourss)\n",
    "    #print(hog.shape)\n",
    "    row_sums = hog.sum(axis=1)\n",
    "    new_hog = hog / row_sums[:, np.newaxis]\n",
    "    new_hog = np.nan_to_num(new_hog)\n",
    "    feature = final_HOG(new_hog)\n",
    "    feature = feature.flatten()\n",
    "    #print(feature.shape)\n",
    "    #feature = feature.reshape((-1,-1))\n",
    "    feature = feature.transpose()\n",
    "    #print(feature.shape)\n",
    "    feature_dog_dic[imgnm] = feature "
   ]
  },
  {
   "cell_type": "code",
   "execution_count": 539,
   "metadata": {},
   "outputs": [],
   "source": [
    "hog_car =[]\n",
    "for key, value in feature_dic.items():\n",
    "    temp = value\n",
    "    hog_car.append(temp)\n",
    "#hog_car = np.asarray(hog_car)\n",
    "#print(hog_car.shape)"
   ]
  },
  {
   "cell_type": "code",
   "execution_count": 540,
   "metadata": {},
   "outputs": [],
   "source": [
    "hog_dog = []\n",
    "for key,value in feature_dog_dic.items():\n",
    "    temp = value\n",
    "    hog_dog.append(temp)\n",
    "#hog_dog = np.asarray(hog_dog)\n",
    "#print(hog_dog.shape)"
   ]
  },
  {
   "cell_type": "code",
   "execution_count": 541,
   "metadata": {},
   "outputs": [
    {
     "name": "stdout",
     "output_type": "stream",
     "text": [
      "(34, 1792)\n"
     ]
    }
   ],
   "source": [
    "X = hog_dog + hog_car\n",
    "X = np.asarray(X_train)\n",
    "print(X.shape)"
   ]
  },
  {
   "cell_type": "code",
   "execution_count": 542,
   "metadata": {},
   "outputs": [],
   "source": [
    "classes = [1,0]"
   ]
  },
  {
   "cell_type": "code",
   "execution_count": 543,
   "metadata": {},
   "outputs": [],
   "source": [
    "label_car = []\n",
    "for i in range(20):\n",
    "    label_car.append(classes[0])"
   ]
  },
  {
   "cell_type": "code",
   "execution_count": 544,
   "metadata": {},
   "outputs": [],
   "source": [
    "label_dog = []\n",
    "for i in range(20):\n",
    "    label_dog.append(classes[1])"
   ]
  },
  {
   "cell_type": "code",
   "execution_count": 1,
   "metadata": {},
   "outputs": [
    {
     "ename": "NameError",
     "evalue": "name 'label_dog' is not defined",
     "output_type": "error",
     "traceback": [
      "\u001b[0;31m---------------------------------------------------------------------------\u001b[0m",
      "\u001b[0;31mNameError\u001b[0m                                 Traceback (most recent call last)",
      "\u001b[0;32m<ipython-input-1-b4e35635c921>\u001b[0m in \u001b[0;36m<module>\u001b[0;34m\u001b[0m\n\u001b[0;32m----> 1\u001b[0;31m \u001b[0my\u001b[0m \u001b[0;34m=\u001b[0m \u001b[0mlabel_dog\u001b[0m\u001b[0;34m+\u001b[0m\u001b[0mlabel_car\u001b[0m\u001b[0;34m\u001b[0m\u001b[0;34m\u001b[0m\u001b[0m\n\u001b[0m\u001b[1;32m      2\u001b[0m \u001b[0my\u001b[0m \u001b[0;34m=\u001b[0m \u001b[0mnp\u001b[0m\u001b[0;34m.\u001b[0m\u001b[0marray\u001b[0m\u001b[0;34m(\u001b[0m\u001b[0my\u001b[0m\u001b[0;34m)\u001b[0m\u001b[0;34m\u001b[0m\u001b[0;34m\u001b[0m\u001b[0m\n\u001b[1;32m      3\u001b[0m \u001b[0mprint\u001b[0m\u001b[0;34m(\u001b[0m\u001b[0my\u001b[0m\u001b[0;34m)\u001b[0m\u001b[0;34m\u001b[0m\u001b[0;34m\u001b[0m\u001b[0m\n",
      "\u001b[0;31mNameError\u001b[0m: name 'label_dog' is not defined"
     ]
    }
   ],
   "source": [
    "y = label_dog+label_car\n",
    "y = np.array(y)\n",
    "print(y.shape)"
   ]
  },
  {
   "cell_type": "code",
   "execution_count": 546,
   "metadata": {},
   "outputs": [
    {
     "name": "stdout",
     "output_type": "stream",
     "text": [
      "3.jpg\n",
      "(1792,)\n",
      "(1792,)\n",
      "puppy.jpg\n",
      "(1792,)\n",
      "(1792,)\n",
      "1.jpg\n",
      "(1792,)\n",
      "(1792,)\n",
      "2.jpg\n",
      "(1792,)\n",
      "(1792,)\n"
     ]
    }
   ],
   "source": [
    "dir_images_dog = 'dog_test/'\n",
    "imgs = os.listdir(dir_images_dog)\n",
    "dog_dic ={}\n",
    "neighbours = 16\n",
    "for imgnm in imgs:\n",
    "    print(imgnm)\n",
    "    image = plt.imread(os.path.join(dir_images_dog,imgnm))\n",
    "    #print(image.shape)\n",
    "    image = cv2.cvtColor(image,cv2.COLOR_BGR2GRAY)\n",
    "    image = cv2.resize(image,(256,256))\n",
    "    mag = np.zeros(image.shape,dtype=np.float64)\n",
    "    angle = np.zeros(image.shape,dtype=float)\n",
    "    mag,angle= gradient_mag_angle(mv,mh,image)\n",
    "    hog = HOG(mag,angle,patch,image,key_angle,neighbours)\n",
    "    #print(hog.shape)\n",
    "    row_sums = hog.sum(axis=1)\n",
    "    new_hog = hog / row_sums[:, np.newaxis]\n",
    "    new_hog = np.nan_to_num(new_hog)\n",
    "    feature = final_HOG(new_hog)\n",
    "    \n",
    "    feature = feature.flatten()\n",
    "    print(feature.shape)\n",
    "    #feature = feature.reshape((-1,-1))\n",
    "    feature = feature.transpose()\n",
    "    print(feature.shape)\n",
    "    dog_dic[imgnm] = feature "
   ]
  },
  {
   "cell_type": "code",
   "execution_count": 547,
   "metadata": {},
   "outputs": [
    {
     "name": "stdout",
     "output_type": "stream",
     "text": [
      "3136.jpg\n",
      "car-1300629_640.png\n",
      "2.jpg\n",
      "auto-2209439_640.png\n"
     ]
    }
   ],
   "source": [
    "dir_images = 'car_test/'\n",
    "imgs = os.listdir(dir_images)\n",
    "dic ={}\n",
    "neighbours = 16\n",
    "for imgnm in imgs:\n",
    "    print(imgnm)\n",
    "    image = plt.imread(os.path.join(dir_images,imgnm))\n",
    "    #print(image.shape)\n",
    "    image = cv2.cvtColor(image,cv2.COLOR_BGR2GRAY)\n",
    "    image = cv2.resize(image,(256,256))\n",
    "    mag = np.zeros(image.shape,dtype=np.float64)\n",
    "    angle = np.zeros(image.shape,dtype=float)\n",
    "    mag,angle= gradient_mag_angle(mv,mh,image)\n",
    "    hog = HOG(mag,angle,patch,image,key_angle,neighbourss)\n",
    "    #print(hog.shape)\n",
    "    row_sums = hog.sum(axis=1)\n",
    "    new_hog = hog / row_sums[:, np.newaxis]\n",
    "    new_hog = np.nan_to_num(new_hog)\n",
    "    feature = final_HOG(new_hog)\n",
    "    feature = feature.flatten()\n",
    "    #feature = feature.reshape((-1,1))\n",
    "    feature = feature.transpose()\n",
    "    #print(feature.shape)\n",
    "    dic[imgnm] = feature"
   ]
  },
  {
   "cell_type": "code",
   "execution_count": 548,
   "metadata": {},
   "outputs": [],
   "source": [
    "car =[]\n",
    "for key, value in dic.items():\n",
    "    temp = value\n",
    "    car.append(temp)"
   ]
  },
  {
   "cell_type": "code",
   "execution_count": 549,
   "metadata": {},
   "outputs": [],
   "source": [
    "dog = []\n",
    "for key,value in dog_dic.items():\n",
    "    temp = value\n",
    "    dog.append(temp)"
   ]
  },
  {
   "cell_type": "code",
   "execution_count": 550,
   "metadata": {},
   "outputs": [],
   "source": [
    "X_test = dog+car\n",
    "X_test = np.asarray(X_test)"
   ]
  },
  {
   "cell_type": "code",
   "execution_count": 551,
   "metadata": {},
   "outputs": [
    {
     "data": {
      "text/plain": [
       "(8, 1792)"
      ]
     },
     "execution_count": 551,
     "metadata": {},
     "output_type": "execute_result"
    }
   ],
   "source": [
    "X_test.shape"
   ]
  },
  {
   "cell_type": "code",
   "execution_count": null,
   "metadata": {},
   "outputs": [],
   "source": [
    "y_test=[]\n",
    "for i in range(4):\n",
    "    y_test.append(classes[])\n",
    "    "
   ]
  },
  {
   "cell_type": "code",
   "execution_count": 552,
   "metadata": {},
   "outputs": [
    {
     "name": "stdout",
     "output_type": "stream",
     "text": [
      "(8,)\n"
     ]
    }
   ],
   "source": [
    "y_test = np.asarray(y_test)\n",
    "print(y_test.shape)"
   ]
  },
  {
   "cell_type": "code",
   "execution_count": 75,
   "metadata": {},
   "outputs": [],
   "source": [
    "classifier = svm.SVC(C=200,kernel='rbf',gamma=0.01,cache_size=8000,probability=False)"
   ]
  },
  {
   "cell_type": "code",
   "execution_count": 76,
   "metadata": {},
   "outputs": [],
   "source": [
    "model = classifier.fit(X,y)"
   ]
  },
  {
   "cell_type": "code",
   "execution_count": 77,
   "metadata": {},
   "outputs": [],
   "source": [
    "y_pred = classifier.predict(X_test)"
   ]
  },
  {
   "cell_type": "code",
   "execution_count": 78,
   "metadata": {},
   "outputs": [
    {
     "name": "stdout",
     "output_type": "stream",
     "text": [
      "[0 0 0 0 0 0 0 0]\n"
     ]
    }
   ],
   "source": [
    "print(y_pred)"
   ]
  },
  {
   "cell_type": "code",
   "execution_count": 79,
   "metadata": {},
   "outputs": [
    {
     "name": "stdout",
     "output_type": "stream",
     "text": [
      "Accuracy: 0.5\n",
      "\n",
      "\n",
      "              precision    recall  f1-score   support\n",
      "\n",
      "           0       0.50      1.00      0.67         4\n",
      "           1       0.00      0.00      0.00         4\n",
      "\n",
      "    accuracy                           0.50         8\n",
      "   macro avg       0.25      0.50      0.33         8\n",
      "weighted avg       0.25      0.50      0.33         8\n",
      "\n"
     ]
    },
    {
     "name": "stderr",
     "output_type": "stream",
     "text": [
      "/home/surbhi/anaconda3/lib/python3.7/site-packages/sklearn/metrics/classification.py:1437: UndefinedMetricWarning: Precision and F-score are ill-defined and being set to 0.0 in labels with no predicted samples.\n",
      "  'precision', 'predicted', average, warn_for)\n"
     ]
    }
   ],
   "source": [
    "print(\"Accuracy: \"+str(accuracy_score(y_test, y_pred)))\n",
    "print('\\n')\n",
    "print(classification_report(y_test, y_pred))"
   ]
  },
  {
   "cell_type": "code",
   "execution_count": null,
   "metadata": {},
   "outputs": [],
   "source": []
  }
 ],
 "metadata": {
  "kernelspec": {
   "display_name": "Python 3",
   "language": "python",
   "name": "python3"
  },
  "language_info": {
   "codemirror_mode": {
    "name": "ipython",
    "version": 3
   },
   "file_extension": ".py",
   "mimetype": "text/x-python",
   "name": "python",
   "nbconvert_exporter": "python",
   "pygments_lexer": "ipython3",
   "version": "3.7.4"
  }
 },
 "nbformat": 4,
 "nbformat_minor": 2
}
