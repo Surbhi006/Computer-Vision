{
 "cells": [
  {
   "cell_type": "code",
   "execution_count": 173,
   "metadata": {},
   "outputs": [],
   "source": [
    "import matplotlib.pyplot as plt\n",
    "import matplotlib.patches as patch \n",
    "import cv2\n",
    "import numpy as np\n",
    "import matplotlib.image as mpimg\n",
    "from math import cos, sin,pi"
   ]
  },
  {
   "cell_type": "code",
   "execution_count": 174,
   "metadata": {},
   "outputs": [],
   "source": [
    "image = np.zeros((450,750,3))"
   ]
  },
  {
   "cell_type": "code",
   "execution_count": 175,
   "metadata": {},
   "outputs": [],
   "source": [
    "#ORANGE\n",
    "for i in range (150):\n",
    "    for j in range(750):\n",
    "        image[i][j][0]=255\n",
    "        image[i][j][1]=140\n",
    "        image[i][j][2]=0"
   ]
  },
  {
   "cell_type": "code",
   "execution_count": 176,
   "metadata": {},
   "outputs": [],
   "source": [
    "#White\n",
    "for i in range(151,300):\n",
    "    for j in range(750):\n",
    "        image[i][j][0]=255\n",
    "        image[i][j][1]=255\n",
    "        image[i][j][2]=255\n"
   ]
  },
  {
   "cell_type": "code",
   "execution_count": 177,
   "metadata": {},
   "outputs": [],
   "source": [
    "#GREEN\n",
    "for i in range(301,450):\n",
    "    for j in range(750):\n",
    "        image[i][j][0]=19\n",
    "        image[i][j][1]=136\n",
    "        image[i][j][2]=8"
   ]
  },
  {
   "cell_type": "code",
   "execution_count": 178,
   "metadata": {},
   "outputs": [],
   "source": [
    "#Circle\n",
    "x = 225\n",
    "y = 350\n",
    "r = 75\n",
    "for i in range(151,300):\n",
    "    for j in range(750):\n",
    "        if ((((x-i)**2)+((y-j)**2))<=((r+1)**2))and((((x-i)**2) + (y-j)**2) )>=((r-2)**2): \n",
    "            image[i][j][0] = 0 \n",
    "            image[i][j][1] = 0\n",
    "            image[i][j][2] = 255"
   ]
  },
  {
   "cell_type": "code",
   "execution_count": 181,
   "metadata": {},
   "outputs": [],
   "source": [
    "#Spokes\n",
    "theta = 0\n",
    "center = (350,225)\n",
    "for i in range(24):\n",
    "    theta+=pi/12\n",
    "    x = int(350+(r*cos(theta)))\n",
    "    y = int(225+(r*sin(theta)))\n",
    "    cv2.line(image,center,(x,y),(0,0,255),2)"
   ]
  },
  {
   "cell_type": "code",
   "execution_count": 182,
   "metadata": {},
   "outputs": [
    {
     "data": {
      "image/png": "[encoded data removed]",
      "text/plain": [
       "<Figure size 432x288 with 1 Axes>"
      ]
     },
     "metadata": {
      "needs_background": "light"
     },
     "output_type": "display_data"
    }
   ],
   "source": [
    "plt.imshow(image.astype('uint8'))\n",
    "plt.show()"
   ]
  },
  {
   "cell_type": "code",
   "execution_count": null,
   "metadata": {},
   "outputs": [],
   "source": []
  },
  {
   "cell_type": "code",
   "execution_count": null,
   "metadata": {},
   "outputs": [],
   "source": []
  }
 ],
 "metadata": {
  "kernelspec": {
   "display_name": "Python 3",
   "language": "python",
   "name": "python3"
  },
  "language_info": {
   "codemirror_mode": {
    "name": "ipython",
    "version": 3
   },
   "file_extension": ".py",
   "mimetype": "text/x-python",
   "name": "python",
   "nbconvert_exporter": "python",
   "pygments_lexer": "ipython3",
   "version": "3.7.4"
  }
 },
 "nbformat": 4,
 "nbformat_minor": 2
}
